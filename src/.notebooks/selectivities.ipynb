{
 "cells": [
  {
   "cell_type": "code",
   "execution_count": 1,
   "metadata": {},
   "outputs": [],
   "source": [
    "# !pip install pandas matplotlib numpy"
   ]
  },
  {
   "cell_type": "code",
   "execution_count": 2,
   "metadata": {},
   "outputs": [],
   "source": [
    "import os\n",
    "from pathlib import Path\n",
    "from tabulate import tabulate\n",
    "\n",
    "import matplotlib\n",
    "matplotlib.use('Agg')\n",
    "import matplotlib.pyplot as plt\n",
    "import matplotlib.font_manager as font_manager\n",
    "from mpl_toolkits.axes_grid1.inset_locator import inset_axes\n",
    "\n",
    "from plotter import *\n",
    "from plotter.epochstats import EpochStats\n",
    "from plotter.plotepochstats import PlotRangeQueryStats, PlotEpochStats, plot_total_data_movement\n",
    "from plotter.plotselectivities import PlotSelectivities, PlotSelectivitiesRangeQuery\n",
    "from plotter.utils import vanilla_dirname, rqdc_dirname\n",
    "from plotter.dataclass import TABLE_DATA, Metric\n",
    "\n",
    "PROJECT_DIR = Path.cwd().parent.parent\n",
    "\n",
    "prop = font_manager.FontProperties(fname=\"./plotter/LinLibertine_Mah.ttf\")\n",
    "plt.rcParams['font.family'] = prop.get_name()\n",
    "plt.rcParams['text.usetex'] = True\n",
    "plt.rcParams['font.weight'] = 'bold'\n",
    "plt.rcParams['font.size'] = 24\n",
    "\n",
    "TAG = \"ycsbexperiment\""
   ]
  },
  {
   "cell_type": "code",
   "execution_count": 4,
   "metadata": {},
   "outputs": [
    {
     "name": "stdout",
     "output_type": "stream",
     "text": [
      "/Users/shubham/SSD Lab/LSMQueryDrivenCompaction/.vstats/experiments-ycsbexperiment-U8388608-E128-B32-S9000-Y0.3-T6\n"
     ]
    },
    {
     "name": "stderr",
     "output_type": "stream",
     "text": [
      "/Users/shubham/SSD Lab/LSMQueryDrivenCompaction/src/.notebooks/plotter/epochstats.py:499: FutureWarning: DataFrame.applymap has been deprecated. Use DataFrame.map instead.\n",
      "  self._rangequery_stats = self._rangequery_stats.applymap(\n",
      "/Users/shubham/SSD Lab/LSMQueryDrivenCompaction/src/.notebooks/plotter/epochstats.py:499: FutureWarning: DataFrame.applymap has been deprecated. Use DataFrame.map instead.\n",
      "  self._rangequery_stats = self._rangequery_stats.applymap(\n",
      "/Users/shubham/SSD Lab/LSMQueryDrivenCompaction/src/.notebooks/plotter/epochstats.py:499: FutureWarning: DataFrame.applymap has been deprecated. Use DataFrame.map instead.\n",
      "  self._rangequery_stats = self._rangequery_stats.applymap(\n",
      "/Users/shubham/SSD Lab/LSMQueryDrivenCompaction/src/.notebooks/plotter/plotepochstats.py:943: UserWarning: FigureCanvasAgg is non-interactive, and thus cannot be shown\n",
      "  plt.show()\n",
      "/Users/shubham/SSD Lab/LSMQueryDrivenCompaction/src/.notebooks/plotter/plotepochstats.py:1065: UserWarning: FigureCanvasAgg is non-interactive, and thus cannot be shown\n",
      "  plt.show()\n",
      "/Users/shubham/SSD Lab/LSMQueryDrivenCompaction/src/.notebooks/plotter/plotepochstats.py:153: RuntimeWarning: invalid value encountered in scalar divide\n",
      "  avg_bytes_written_by_RR[approach] = [plot_stat[0].RangeReduceWrittenBytes / (TABLE_DATA[approach][str(Metric.RR_TRIGGERED_COUNT)] * 1024**2)]\n",
      "/Users/shubham/SSD Lab/LSMQueryDrivenCompaction/src/.notebooks/plotter/plotepochstats.py:215: UserWarning: FigureCanvasAgg is non-interactive, and thus cannot be shown\n",
      "  plt.show()\n",
      "/Users/shubham/SSD Lab/LSMQueryDrivenCompaction/src/.notebooks/plotter/plotepochstats.py:249: UserWarning: FigureCanvasAgg is non-interactive, and thus cannot be shown\n",
      "  plt.show()\n",
      "/Users/shubham/SSD Lab/LSMQueryDrivenCompaction/src/.notebooks/plotter/plotepochstats.py:320: UserWarning: FigureCanvasAgg is non-interactive, and thus cannot be shown\n",
      "  plt.show()\n"
     ]
    },
    {
     "name": "stdout",
     "output_type": "stream",
     "text": [
      "| Method                      | tot. writes (GB)   | s. amp.   | comp. debt. (MB)   | RQ lat. (avg ms)   | overall data mov. (GB)   | w/l exec. time (sec)   | # RR trig   | avg. fsize         | tot. fcount   | avg. bytes read RQ (MB)   | avg. bytes written RR (MB)   | tot. comp. read (Not RR) (GB)   | tail RQ lat. 98   | tail RQ lat. 100   |\n",
      "|-----------------------------|--------------------|-----------|--------------------|--------------------|--------------------------|------------------------|-------------|--------------------|---------------|---------------------------|------------------------------|---------------------------------|-------------------|--------------------|\n",
      "| RocksDB                     | 35499341824        | 1.46      | 14046403920        | 1.35               | 1.66                     | 13997017598439         | 0           | 3.720604955706348  | 403           | 185.30377830674914        | nan                          | 34.29                           | 2.8               | 3.48               |\n",
      "| RocksDBTuned                |                    |           |                    |                    |                          |                        |             |                    |               |                           |                              |                                 |                   |                    |\n",
      "| RangeReduce[lb=0 & smlck=0] |                    |           |                    |                    |                          |                        |             |                    |               |                           |                              |                                 |                   |                    |\n",
      "| RangeReduce[lb=0]           |                    |           |                    |                    |                          |                        |             |                    |               |                           |                              |                                 |                   |                    |\n",
      "| RangeReduce[lb=T^-1]        | 57.41%             | -18.48%   | -87.85%            | -4.87%             | -8.87%                   | -4.61%                 | 2847        | 3.8195512145757675 | 320           | 167.93280373806422        | 12.53429625584529            | -49.04%                         | -10.12%           | 13.93%             |\n",
      "| RangeReduce[lb=T^-1 & re=1] | 52.96%             | -17.72%   | -86.57%            | -4.42%             | -9.21%                   | -4.22%                 | 2927        | 3.8312593750331714 | 322           | 167.56357897949218        | 11.996745713302044           | -51.74%                         | -9.39%            | 2.37%              |\n"
     ]
    },
    {
     "name": "stderr",
     "output_type": "stream",
     "text": [
      "/Users/shubham/SSD Lab/LSMQueryDrivenCompaction/src/.notebooks/plotter/plotepochstats.py:469: UserWarning: FigureCanvasAgg is non-interactive, and thus cannot be shown\n",
      "  plt.show()\n",
      "/Users/shubham/SSD Lab/LSMQueryDrivenCompaction/src/.notebooks/plotter/plotepochstats.py:555: UserWarning: FigureCanvasAgg is non-interactive, and thus cannot be shown\n",
      "  plt.show()\n",
      "/Users/shubham/SSD Lab/LSMQueryDrivenCompaction/src/.notebooks/plotter/plotepochstats.py:618: UserWarning: FigureCanvasAgg is non-interactive, and thus cannot be shown\n",
      "  plt.show()\n",
      "/Users/shubham/SSD Lab/LSMQueryDrivenCompaction/src/.notebooks/plotter/plotepochstats.py:1352: UserWarning: FigureCanvasAgg is non-interactive, and thus cannot be shown\n",
      "  plt.show()\n"
     ]
    }
   ],
   "source": [
    "random_rq_stats = dict()\n",
    "random_rq_stats_for_rq = dict()\n",
    "\n",
    "lb = 1 / SIZE_RATIO\n",
    "EXPDIRNAME = f\"{PROJECT_DIR}/.vstats/experiments-{TAG}-U{UPDATES}-E{ENTRY_SIZE}-B{ENTRIES_PER_PAGE}-S{RANGE_QUERIES}-Y{SELECTIVITY}-T{SIZE_RATIO}\"   #  -P{NUM_PAGE_PER_FILE}\n",
    "\n",
    "print(EXPDIRNAME)\n",
    "rocksdb_dirpath = os.path.join(EXPDIRNAME, \"RocksDB\")\n",
    "# rocksdb_tuned_dirpath = os.path.join(EXPDIRNAME, \"RocksDBTuned\")\n",
    "# rr_lb0_smlck0_dirpath = os.path.join(EXPDIRNAME, \"RangeReduce[lb=0ANDsmlck=0]\")\n",
    "rr_lb0_dirpath = os.path.join(EXPDIRNAME, \"RangeReduce[lb=0]\")\n",
    "rr_lb_1_by_T_dirpath = os.path.join(EXPDIRNAME, \"RangeReduce[lb=T^-1]\")\n",
    "rr_lb_1_by_T_and_re_1_dirpath = os.path.join(EXPDIRNAME, \"RangeReduce[lb=T^-1ANDre=1]\")\n",
    "\n",
    "filesize = ENTRY_SIZE * ENTRIES_PER_PAGE * NUM_PAGE_PER_FILE\n",
    "\n",
    "rocksdb = EpochStats(rocksdb_dirpath, NUMEPOCHS, filesize)\n",
    "# rocksdb_tuned = EpochStats(rocksdb_tuned_dirpath, NUMEPOCHS, filesize)\n",
    "# rr_lb_0_smlck_0 = EpochStats(rr_lb0_smlck0_dirpath, NUMEPOCHS, filesize)\n",
    "# rr_lb_0 = EpochStats(rr_lb0_dirpath, NUMEPOCHS, filesize)\n",
    "rr_lb_1_by_T = EpochStats(rr_lb_1_by_T_dirpath, NUMEPOCHS, filesize)\n",
    "rr_lb_1_by_T_and_re_1 = EpochStats(rr_lb_1_by_T_and_re_1_dirpath, NUMEPOCHS, filesize)\n",
    "\n",
    "plot_exp = PlotRangeQueryStats(\n",
    "    {\n",
    "        \"RocksDB\": rocksdb.get_rangequerystats(),\n",
    "        # \"RocksDBTuned\": rocksdb_tuned.get_rangequerystats(),\n",
    "        # \"RangeReduce[lb=0 & smlck=0]\": rr_lb_0_smlck_0.get_rangequerystats(),\n",
    "        # \"RangeReduce[lb=0]\": rr_lb_0.get_rangequerystats(),\n",
    "        \"RangeReduce[lb=T^-1]\": rr_lb_1_by_T.get_rangequerystats(),\n",
    "        \"RangeReduce[lb=T^-1 & re=1]\": rr_lb_1_by_T_and_re_1.get_rangequerystats(),\n",
    "    }\n",
    ")\n",
    "plot_exp.bytes_read_for_each_range_query()\n",
    "plot_exp.latency_for_each_range_query()\n",
    "# plot_exp.plot_instructions_executed_per_range_query()\n",
    "# plot_exp.plot_CPU_cycles_spent_per_range_query()\n",
    "# plot_exp.cummulative_latency_for_range_queries()\n",
    "\n",
    "plt.rcParams['font.size'] = 30\n",
    "metric_exp = PlotEpochStats(\n",
    "    {\n",
    "        \"RocksDB\": rocksdb.get_plotstats(),\n",
    "        # \"RocksDBTuned\": rocksdb_tuned.get_plotstats(),\n",
    "        # \"RangeReduce[lb=0 & smlck=0]\": rr_lb_0_smlck_0.get_plotstats(),\n",
    "        # \"RangeReduce[lb=0]\": rr_lb_0.get_plotstats(),\n",
    "        \"RangeReduce[lb=T^-1]\": rr_lb_1_by_T.get_plotstats(),\n",
    "        \"RangeReduce[lb=T^-1 & re=1]\": rr_lb_1_by_T_and_re_1.get_plotstats(),\n",
    "    }\n",
    ")\n",
    "metric_exp.plot_total_bytes_written()\n",
    "metric_exp.plot_database_size()\n",
    "metric_exp.plot_compaction_debt()\n",
    "metric_exp.plot_space_amplification()\n",
    "metric_exp.plot_compaction_read()\n",
    "metric_exp.plot_workload_exec_time()\n",
    "plot_total_data_movement(\n",
    "    {\n",
    "        \"RocksDB\": rocksdb.get_plotstats(),\n",
    "        # \"RocksDBTuned\": rocksdb_tuned.get_plotstats(),\n",
    "        # \"RangeReduce[lb=0 & smlck=0]\": rr_lb_0_smlck_0.get_plotstats(),\n",
    "        # \"RangeReduce[lb=0]\": rr_lb_0.get_plotstats(),\n",
    "        \"RangeReduce[lb=T^-1]\": rr_lb_1_by_T.get_plotstats(),\n",
    "        \"RangeReduce[lb=T^-1 & re=1]\": rr_lb_1_by_T_and_re_1.get_plotstats(),\n",
    "    },\n",
    "    {\n",
    "        \"RocksDB\": rocksdb.get_rangequerystats(),\n",
    "        # \"RocksDBTuned\": rocksdb_tuned.get_rangequerystats(),\n",
    "        # \"RangeReduce[lb=0 & smlck=0]\": rr_lb_0_smlck_0.get_rangequerystats(),\n",
    "        # \"RangeReduce[lb=0]\": rr_lb_0.get_rangequerystats(),\n",
    "        \"RangeReduce[lb=T^-1]\": rr_lb_1_by_T.get_rangequerystats(),\n",
    "        \"RangeReduce[lb=T^-1 & re=1]\": rr_lb_1_by_T_and_re_1.get_rangequerystats(),\n",
    "    },\n",
    ")\n",
    "\n",
    "rows = []\n",
    "ordered_columns = [\"Method\"] + [metric.value[0] for metric in Metric]\n",
    "\n",
    "for method, metrics in TABLE_DATA.items():\n",
    "    row = {\"Method\": method}\n",
    "    row.update(metrics)\n",
    "    rows.append(row)\n",
    "\n",
    "ordered_rows = []\n",
    "for row in rows:\n",
    "    ordered_row = {col: row.get(col, \"\") for col in ordered_columns}\n",
    "    ordered_rows.append(ordered_row)\n",
    "\n",
    "markdown_table = tabulate(ordered_rows, headers=\"keys\", tablefmt=\"github\")\n",
    "print(markdown_table)"
   ]
  },
  {
   "cell_type": "code",
   "execution_count": null,
   "metadata": {},
   "outputs": [],
   "source": [
    "# markdown_table = tabulate(ordered_rows, headers=\"keys\", tablefmt=\"latex\")\n",
    "# print(markdown_table)"
   ]
  }
 ],
 "metadata": {
  "kernelspec": {
   "display_name": "RQDC",
   "language": "python",
   "name": "python3"
  },
  "language_info": {
   "codemirror_mode": {
    "name": "ipython",
    "version": 3
   },
   "file_extension": ".py",
   "mimetype": "text/x-python",
   "name": "python",
   "nbconvert_exporter": "python",
   "pygments_lexer": "ipython3",
   "version": "3.12.7"
  }
 },
 "nbformat": 4,
 "nbformat_minor": 2
}
