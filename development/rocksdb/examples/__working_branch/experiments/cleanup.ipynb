{
 "cells": [
  {
   "cell_type": "code",
   "execution_count": 1,
   "metadata": {},
   "outputs": [],
   "source": [
    "import os\n",
    "\n",
    "all_directory = os.listdir()\n",
    "\n",
    "for directory in all_directory:\n",
    "    if os.path.isdir(directory) == False:\n",
    "        continue\n",
    "    for file in os.listdir(directory):\n",
    "        if file.endswith(\".log\"):\n",
    "            os.remove(os.path.join(directory, file))\n",
    "            print(\"Removing \" + os.path.join(directory, file))"
   ]
  }
 ],
 "metadata": {
  "kernelspec": {
   "display_name": "Python 3",
   "language": "python",
   "name": "python3"
  },
  "language_info": {
   "codemirror_mode": {
    "name": "ipython",
    "version": 3
   },
   "file_extension": ".py",
   "mimetype": "text/x-python",
   "name": "python",
   "nbconvert_exporter": "python",
   "pygments_lexer": "ipython3",
   "version": "3.8.10"
  }
 },
 "nbformat": 4,
 "nbformat_minor": 2
}
