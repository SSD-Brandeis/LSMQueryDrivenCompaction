{
 "cells": [
  {
   "cell_type": "code",
   "execution_count": 1,
   "metadata": {},
   "outputs": [],
   "source": [
    "# !pip install pandas matplotlib numpy"
   ]
  },
  {
   "cell_type": "code",
   "execution_count": 2,
   "metadata": {},
   "outputs": [],
   "source": [
    "import os\n",
    "from pathlib import Path\n",
    "from tabulate import tabulate\n",
    "\n",
    "from plotter import *\n",
    "from plotter.epochstats import EpochStats\n",
    "from plotter.plotepochstats import PlotRangeQueryStats, PlotEpochStats, plot_total_data_movement\n",
    "from plotter.plotselectivities import PlotSelectivities, PlotSelectivitiesRangeQuery\n",
    "from plotter.utils import vanilla_dirname, rqdc_dirname\n",
    "from plotter.dataclass import TABLE_DATA, Metric\n",
    "\n",
    "PROJECT_DIR = Path.cwd().parent.parent"
   ]
  },
  {
   "cell_type": "code",
   "execution_count": 3,
   "metadata": {},
   "outputs": [
    {
     "ename": "FileNotFoundError",
     "evalue": "log directory: /home/cc/LSMQueryDrivenCompaction/.vstats/experiments-mergeonscan-U8388608-E128-B32-P1024-S900-Y0.00001-T6/RangeReduce[lb=T^-1] not found",
     "output_type": "error",
     "traceback": [
      "\u001b[0;31m---------------------------------------------------------------------------\u001b[0m",
      "\u001b[0;31mFileNotFoundError\u001b[0m                         Traceback (most recent call last)",
      "Cell \u001b[0;32mIn[3], line 20\u001b[0m\n\u001b[1;32m     18\u001b[0m rr_lb_0_smlck_0 \u001b[38;5;241m=\u001b[39m EpochStats(rr_lb0_smlck0_dirpath, NUMEPOCHS, filesize)\n\u001b[1;32m     19\u001b[0m rr_lb_0 \u001b[38;5;241m=\u001b[39m EpochStats(rr_lb0_dirpath, NUMEPOCHS, filesize)\n\u001b[0;32m---> 20\u001b[0m rr_lb_1_by_T \u001b[38;5;241m=\u001b[39m \u001b[43mEpochStats\u001b[49m\u001b[43m(\u001b[49m\u001b[43mrr_lb_1_by_T_dirpath\u001b[49m\u001b[43m,\u001b[49m\u001b[43m \u001b[49m\u001b[43mNUMEPOCHS\u001b[49m\u001b[43m,\u001b[49m\u001b[43m \u001b[49m\u001b[43mfilesize\u001b[49m\u001b[43m)\u001b[49m\n\u001b[1;32m     21\u001b[0m rr_lb_1_by_T_and_re_1 \u001b[38;5;241m=\u001b[39m EpochStats(rr_lb_1_by_T_and_re_1_dirpath, NUMEPOCHS, filesize)\n\u001b[1;32m     23\u001b[0m plot_exp \u001b[38;5;241m=\u001b[39m PlotRangeQueryStats(\n\u001b[1;32m     24\u001b[0m     {\n\u001b[1;32m     25\u001b[0m         \u001b[38;5;124m\"\u001b[39m\u001b[38;5;124mRocksDB\u001b[39m\u001b[38;5;124m\"\u001b[39m: rocksdb\u001b[38;5;241m.\u001b[39mget_rangequerystats(),\n\u001b[0;32m   (...)\u001b[0m\n\u001b[1;32m     31\u001b[0m     }\n\u001b[1;32m     32\u001b[0m )\n",
      "File \u001b[0;32m~/LSMQueryDrivenCompaction/src/.notebooks/plotter/epochstats.py:451\u001b[0m, in \u001b[0;36mEpochStats.__init__\u001b[0;34m(self, logdirpath, numepoch, filesize)\u001b[0m\n\u001b[1;32m    449\u001b[0m \u001b[38;5;28;01mif\u001b[39;00m \u001b[38;5;129;01mnot\u001b[39;00m os\u001b[38;5;241m.\u001b[39mpath\u001b[38;5;241m.\u001b[39mexists(logdirpath) \u001b[38;5;129;01mor\u001b[39;00m \u001b[38;5;129;01mnot\u001b[39;00m os\u001b[38;5;241m.\u001b[39mpath\u001b[38;5;241m.\u001b[39mexists(logfilepath):\n\u001b[1;32m    450\u001b[0m     \u001b[38;5;28;01mif\u001b[39;00m \u001b[38;5;129;01mnot\u001b[39;00m os\u001b[38;5;241m.\u001b[39mpath\u001b[38;5;241m.\u001b[39mexists(logdirpath):\n\u001b[0;32m--> 451\u001b[0m         \u001b[38;5;28;01mraise\u001b[39;00m \u001b[38;5;167;01mFileNotFoundError\u001b[39;00m(\u001b[38;5;124mf\u001b[39m\u001b[38;5;124m\"\u001b[39m\u001b[38;5;124mlog directory: \u001b[39m\u001b[38;5;132;01m{\u001b[39;00mlogdirpath\u001b[38;5;132;01m}\u001b[39;00m\u001b[38;5;124m not found\u001b[39m\u001b[38;5;124m\"\u001b[39m)\n\u001b[1;32m    452\u001b[0m     \u001b[38;5;28;01mraise\u001b[39;00m \u001b[38;5;167;01mFileNotFoundError\u001b[39;00m(\u001b[38;5;124mf\u001b[39m\u001b[38;5;124m\"\u001b[39m\u001b[38;5;124mlog file \u001b[39m\u001b[38;5;132;01m{\u001b[39;00mlogfilepath\u001b[38;5;132;01m}\u001b[39;00m\u001b[38;5;124m not found\u001b[39m\u001b[38;5;124m\"\u001b[39m)\n\u001b[1;32m    454\u001b[0m \u001b[38;5;28mself\u001b[39m\u001b[38;5;241m.\u001b[39mfilepath \u001b[38;5;241m=\u001b[39m logfilepath\n",
      "\u001b[0;31mFileNotFoundError\u001b[0m: log directory: /home/cc/LSMQueryDrivenCompaction/.vstats/experiments-mergeonscan-U8388608-E128-B32-P1024-S900-Y0.00001-T6/RangeReduce[lb=T^-1] not found"
     ]
    }
   ],
   "source": [
    "random_rq_stats = dict()\n",
    "random_rq_stats_for_rq = dict()\n",
    "\n",
    "lb = 1 / SIZE_RATIO\n",
    "EXPDIRNAME = f\"{PROJECT_DIR}/.vstats/experiments-{TAG}-U{UPDATES}-E{ENTRY_SIZE}-B{ENTRIES_PER_PAGE}-P{NUM_PAGE_PER_FILE}-S{RANGE_QUERIES}-Y{SELECTIVITY}-T{SIZE_RATIO}\"\n",
    "\n",
    "rocksdb_dirpath = os.path.join(EXPDIRNAME, \"RocksDB\")\n",
    "rocksdb_tuned_dirpath = os.path.join(EXPDIRNAME, \"RocksDBTuned\")\n",
    "rr_lb0_smlck0_dirpath = os.path.join(EXPDIRNAME, \"RangeReduce[lb=0ANDsmlck=0]\")\n",
    "rr_lb0_dirpath = os.path.join(EXPDIRNAME, \"RangeReduce[lb=0]\")\n",
    "rr_lb_1_by_T_dirpath = os.path.join(EXPDIRNAME, \"RangeReduce[lb=T^-1]\")\n",
    "rr_lb_1_by_T_and_re_1_dirpath = os.path.join(EXPDIRNAME, \"RangeReduce[lb=T^-1ANDre=1]\")\n",
    "\n",
    "filesize = ENTRY_SIZE * ENTRIES_PER_PAGE * NUM_PAGE_PER_FILE\n",
    "\n",
    "rocksdb = EpochStats(rocksdb_dirpath, NUMEPOCHS, filesize)\n",
    "rocksdb_tuned = EpochStats(rocksdb_tuned_dirpath, NUMEPOCHS, filesize)\n",
    "rr_lb_0_smlck_0 = EpochStats(rr_lb0_smlck0_dirpath, NUMEPOCHS, filesize)\n",
    "rr_lb_0 = EpochStats(rr_lb0_dirpath, NUMEPOCHS, filesize)\n",
    "rr_lb_1_by_T = EpochStats(rr_lb_1_by_T_dirpath, NUMEPOCHS, filesize)\n",
    "rr_lb_1_by_T_and_re_1 = EpochStats(rr_lb_1_by_T_and_re_1_dirpath, NUMEPOCHS, filesize)\n",
    "\n",
    "plot_exp = PlotRangeQueryStats(\n",
    "    {\n",
    "        \"RocksDB\": rocksdb.get_rangequerystats(),\n",
    "        \"RocksDBTuned\": rocksdb_tuned.get_rangequerystats(),\n",
    "        \"RangeReduce[lb=0 & smlck=0]\": rr_lb_0_smlck_0.get_rangequerystats(),\n",
    "        \"RangeReduce[lb=0]\": rr_lb_0.get_rangequerystats(),\n",
    "        \"RangeReduce[lb=T^-1]\": rr_lb_1_by_T.get_rangequerystats(),\n",
    "        \"RangeReduce[lb=T^-1 & re=1]\": rr_lb_1_by_T_and_re_1.get_rangequerystats(),\n",
    "    }\n",
    ")\n",
    "plot_exp.bytes_read_for_each_range_query()\n",
    "plot_exp.latency_for_each_range_query()\n",
    "plot_exp.cummulative_latency_for_range_queries()\n",
    "\n",
    "metric_exp = PlotEpochStats(\n",
    "    {\n",
    "        \"RocksDB\": rocksdb.get_plotstats(),\n",
    "        \"RocksDBTuned\": rocksdb_tuned.get_plotstats(),\n",
    "        \"RangeReduce[lb=0 & smlck=0]\": rr_lb_0_smlck_0.get_plotstats(),\n",
    "        \"RangeReduce[lb=0]\": rr_lb_0.get_plotstats(),\n",
    "        \"RangeReduce[lb=T^-1]\": rr_lb_1_by_T.get_plotstats(),\n",
    "        \"RangeReduce[lb=T^-1 & re=1]\": rr_lb_1_by_T_and_re_1.get_plotstats(),\n",
    "    }\n",
    ")\n",
    "metric_exp.plot_total_bytes_written()\n",
    "metric_exp.plot_database_size()\n",
    "metric_exp.plot_compaction_debt()\n",
    "metric_exp.plot_space_amplification()\n",
    "metric_exp.plot_compaction_read()\n",
    "metric_exp.plot_workload_exec_time()\n",
    "plot_total_data_movement(\n",
    "    {\n",
    "        \"RocksDB\": rocksdb.get_plotstats(),\n",
    "        \"RocksDBTuned\": rocksdb_tuned.get_plotstats(),\n",
    "        \"RangeReduce[lb=0 & smlck=0]\": rr_lb_0_smlck_0.get_plotstats(),\n",
    "        \"RangeReduce[lb=0]\": rr_lb_0.get_plotstats(),\n",
    "        \"RangeReduce[lb=T^-1]\": rr_lb_1_by_T.get_plotstats(),\n",
    "        \"RangeReduce[lb=T^-1 & re=1]\": rr_lb_1_by_T_and_re_1.get_plotstats(),\n",
    "    },\n",
    "    {\n",
    "        \"RocksDB\": rocksdb.get_rangequerystats(),\n",
    "        \"RocksDBTuned\": rocksdb_tuned.get_rangequerystats(),\n",
    "        \"RangeReduce[lb=0 & smlck=0]\": rr_lb_0_smlck_0.get_rangequerystats(),\n",
    "        \"RangeReduce[lb=0]\": rr_lb_0.get_rangequerystats(),\n",
    "        \"RangeReduce[lb=T^-1]\": rr_lb_1_by_T.get_rangequerystats(),\n",
    "        \"RangeReduce[lb=T^-1 & re=1]\": rr_lb_1_by_T_and_re_1.get_rangequerystats(),\n",
    "    },\n",
    ")\n",
    "\n",
    "rows = []\n",
    "ordered_columns = [\"Method\"] + [metric.value[0] for metric in Metric]\n",
    "\n",
    "for method, metrics in TABLE_DATA.items():\n",
    "    row = {\"Method\": method}\n",
    "    row.update(metrics)\n",
    "    rows.append(row)\n",
    "\n",
    "ordered_rows = []\n",
    "for row in rows:\n",
    "    ordered_row = {col: row.get(col, \"\") for col in ordered_columns}\n",
    "    ordered_rows.append(ordered_row)\n",
    "\n",
    "markdown_table = tabulate(ordered_rows, headers=\"keys\", tablefmt=\"github\")\n",
    "print(markdown_table)"
   ]
  },
  {
   "cell_type": "code",
   "execution_count": null,
   "metadata": {},
   "outputs": [
    {
     "name": "stdout",
     "output_type": "stream",
     "text": [
      "\\begin{tabular}{lllllllrrllrlll}\n",
      "\\hline\n",
      " Method                      & tot. writes (GB)   & s. amp.   & comp. debt. (MB)   & RQ lat. (avg ms)   & overall data mov. (GB)   & w/l exec. time (sec)   &   \\# RR trig &   avg. fsize & tot. fcount   & avg. bytes read RQ (MB)   &   avg. bytes written RR (MB) & tot. comp. read (Not RR) (GB)   & tail RQ lat. 98   & tail RQ lat. 100   \\\\\n",
      "\\hline\n",
      " RocksDB                     & 33.1               & 1.45      & 1025.71            & 1038.46            & 176.46                   & 3220.33                &           0 &      3.71722 & 400           & 124.04                    &                     nan      & 34.34                           & 1422.33           & 1781.56            \\\\\n",
      " RocksDBTuned                & -0.41\\%             & 1.32\\%     & -1.44\\%             & 0.32\\%              & 0.22\\%                    & 0.06\\%                  &           0 &      3.74763 & 0.5\\%          & 0.63\\%                     &                     nan      & -0.46\\%                          & -0.46\\%            & 4.04\\%              \\\\\n",
      " RangeReduce[lb=0 \\& smlck=0] & 260.47\\%            & -25.15\\%   & -83.09\\%            & 45.74\\%             & 34.42\\%                   & 13.34\\%                 &         900 &      3.94298 & -28.86\\%       & -16.82\\%                   &                     104.444  & -19.13\\%                         & 20.56\\%            & -3.57\\%             \\\\\n",
      " RangeReduce[lb=0]           & 183.04\\%            & -24.96\\%   & -83.83\\%            & 28.61\\%             & 20.21\\%                   & 8.45\\%                  &         673 &      3.85829 & -27.11\\%       & -16.52\\%                   &                     100.736  & -18.93\\%                         & 20.61\\%            & -1.48\\%             \\\\\n",
      " RangeReduce[lb=T\\^{}-1]        & 21.02\\%             & -21.74\\%   & -91.69\\%            & -3.15\\%             & -10.29\\%                  & -1.42\\%                 &         668 &      3.90404 & -24.88\\%       & -12.31\\%                   &                      27.2344 & -34.0\\%                          & 20.52\\%            & -2.07\\%             \\\\\n",
      " RangeReduce[lb=T\\^{}-1 \\& re=1] & 14.92\\%             & -19.65\\%   & -87.89\\%            & -3.43\\%             & -11.78\\%                  & -1.51\\%                 &         675 &      3.90488 & -22.89\\%       & -12.02\\%                   &                      25.312  & -36.76\\%                         & 24.36\\%            & 0.93\\%              \\\\\n",
      "\\hline\n",
      "\\end{tabular}\n"
     ]
    }
   ],
   "source": [
    "markdown_table = tabulate(ordered_rows, headers=\"keys\", tablefmt=\"latex\")\n",
    "print(markdown_table)"
   ]
  }
 ],
 "metadata": {
  "kernelspec": {
   "display_name": "Python 3",
   "language": "python",
   "name": "python3"
  },
  "language_info": {
   "codemirror_mode": {
    "name": "ipython",
    "version": 3
   },
   "file_extension": ".py",
   "mimetype": "text/x-python",
   "name": "python",
   "nbconvert_exporter": "python",
   "pygments_lexer": "ipython3",
   "version": "3.8.10"
  }
 },
 "nbformat": 4,
 "nbformat_minor": 2
}
