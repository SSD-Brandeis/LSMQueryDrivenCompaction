{
 "cells": [
  {
   "cell_type": "code",
   "execution_count": null,
   "metadata": {},
   "outputs": [],
   "source": [
    "# !pip install pandas matplotlib numpy"
   ]
  },
  {
   "cell_type": "code",
   "execution_count": 1,
   "metadata": {},
   "outputs": [],
   "source": [
    "import os\n",
    "import re\n",
    "from pathlib import Path\n",
    "\n",
    "from plotter import *\n",
    "from plotter.epochstats import EpochStats\n",
    "from plotter.plotepochstats import PlotRangeQueryStats\n",
    "from plotter.plotselectivities import PlotSelectivities, PlotSelectivitiesRangeQuery\n",
    "from plotter.dataclass import SelectivityVsMetric, SelectivityVsRangeQueryMetric\n",
    "from plotter.utils import vanilla_dirname, rqdc_dirname\n",
    "\n",
    "PROJECT_DIR = Path.cwd().parent.parent"
   ]
  },
  {
   "cell_type": "code",
   "execution_count": 2,
   "metadata": {},
   "outputs": [],
   "source": [
    "experiments_to_plot = list()\n",
    "\n",
    "for lb, ub in LOWER_UPPER_BOUNDS:\n",
    "    for selectivity in SELECTIVITY:\n",
    "        experiments_to_plot.append({\n",
    "            \"inserts\": INSERTS,\n",
    "            \"updates\": UPDATES,\n",
    "            \"range\": RANGE_QUERIES,\n",
    "            \"selectivity\": selectivity,\n",
    "            \"sizeRatio\": SIZE_RATIO,\n",
    "            \"entrySize\": ENTRY_SIZE,\n",
    "            \"entriesPerPage\": ENTRIES_PER_PAGE,\n",
    "            \"numPagesPerFile\": NUM_PAGE_PER_FILE,\n",
    "            \"lowerBound\": lb,\n",
    "            \"upperBound\": ub,\n",
    "        })"
   ]
  },
  {
   "cell_type": "code",
   "execution_count": null,
   "metadata": {},
   "outputs": [],
   "source": [
    "random_rq_stats = dict()\n",
    "random_rq_stats_for_rq = dict()\n",
    "\n",
    "same_rq_stats = dict()\n",
    "same_rq_stats_for_rq = dict()\n",
    "\n",
    "overlapping_rq_stats = dict()\n",
    "overlapping_rq_stats_for_rq = dict()\n",
    "\n",
    "for exp in experiments_to_plot:\n",
    "    selectivity = exp['selectivity']\n",
    "    EXPDIRNAME = f\"{PROJECT_DIR}/.vstats/experiments-{TAG}-E{ENTRY_SIZE}-B{ENTRIES_PER_PAGE}-S{RANGE_QUERIES}-Y{selectivity}-T{SIZE_RATIO}\"\n",
    "    vandirpath = os.path.join(EXPDIRNAME, \"VanillaRandom\")\n",
    "    rqdcdirpath = os.path.join(EXPDIRNAME, \"RangeReduceRandom\")\n",
    "    \n",
    "    vandirpath_overlapping_full = os.path.join(EXPDIRNAME, \"VanillaOverlappingFull\")\n",
    "    rqdcdirpath_overlapping_full = os.path.join(EXPDIRNAME, \"RangeReduceOverlappingFull\")\n",
    "    \n",
    "    vandirpath_overlapping_partial = os.path.join(EXPDIRNAME, \"VanillaOverlappingPartial\")\n",
    "    rqdcdirpath_overlapping_partial = os.path.join(EXPDIRNAME, \"RangeReduceOverlappingPartial\")\n",
    "    \n",
    "    filesize = exp[\"entrySize\"] * exp[\"entriesPerPage\"] * exp[\"numPagesPerFile\"]\n",
    "\n",
    "    van = EpochStats(vandirpath, NUMEPOCHS, filesize)\n",
    "    rqdc = EpochStats(rqdcdirpath, NUMEPOCHS, filesize)\n",
    "\n",
    "    van_same_rq = EpochStats(vandirpath_overlapping_full, NUMEPOCHS, filesize)\n",
    "    rqdc_same_rq = EpochStats(rqdcdirpath_overlapping_full, NUMEPOCHS, filesize)\n",
    "\n",
    "    van_overlapping_rq = EpochStats(vandirpath_overlapping_partial, NUMEPOCHS, filesize)\n",
    "    rqdc_overlapping_rq = EpochStats(rqdcdirpath_overlapping_partial, NUMEPOCHS, filesize)\n",
    "\n",
    "    random_rq_stats[selectivity] = SelectivityVsMetric(\n",
    "        Vanilla=van.get_plotstats()[0],\n",
    "        RangeReduce=rqdc.get_plotstats()[0],\n",
    "    )\n",
    "\n",
    "    same_rq_stats[selectivity] = SelectivityVsMetric(\n",
    "        Vanilla=van_same_rq.get_plotstats()[0],\n",
    "        RangeReduce=rqdc_same_rq.get_plotstats()[0],\n",
    "    )\n",
    "\n",
    "    overlapping_rq_stats[selectivity] = SelectivityVsMetric(\n",
    "        Vanilla=van_overlapping_rq.get_plotstats()[0],\n",
    "        RangeReduce=rqdc_overlapping_rq.get_plotstats()[0],\n",
    "    )\n",
    "\n",
    "    random_rq_stats_for_rq[selectivity] = SelectivityVsRangeQueryMetric(\n",
    "        Vanilla=van.get_rangequerystats(),\n",
    "        RangeReduce=rqdc.get_rangequerystats(),\n",
    "    )\n",
    "\n",
    "    same_rq_stats_for_rq[selectivity] = SelectivityVsRangeQueryMetric(\n",
    "        Vanilla=van_same_rq.get_rangequerystats(),\n",
    "        RangeReduce=rqdc_same_rq.get_rangequerystats(),\n",
    "    )\n",
    "\n",
    "    overlapping_rq_stats_for_rq[selectivity] = SelectivityVsRangeQueryMetric(\n",
    "        Vanilla=van_overlapping_rq.get_rangequerystats(),\n",
    "        RangeReduce=rqdc_overlapping_rq.get_rangequerystats(),\n",
    "    )"
   ]
  },
  {
   "cell_type": "code",
   "execution_count": null,
   "metadata": {},
   "outputs": [],
   "source": [
    "random_selectivities = PlotSelectivities(random_rq_stats)\n",
    "same_rq_selectivities = PlotSelectivities(same_rq_stats)\n",
    "overlapping_rq_selectivities = PlotSelectivities(overlapping_rq_stats)"
   ]
  },
  {
   "cell_type": "code",
   "execution_count": null,
   "metadata": {},
   "outputs": [],
   "source": [
    "random_selectivities.plot_total_bytes_written(tag=\"random\")\n",
    "same_rq_selectivities.plot_total_bytes_written(tag=\"same\")\n",
    "overlapping_rq_selectivities.plot_total_bytes_written(tag=\"overlapping\")"
   ]
  },
  {
   "cell_type": "code",
   "execution_count": null,
   "metadata": {},
   "outputs": [],
   "source": [
    "random_selectivities.plot_compaction_debt(tag=\"random\")\n",
    "same_rq_selectivities.plot_compaction_debt(tag=\"same\")\n",
    "overlapping_rq_selectivities.plot_compaction_debt(tag=\"overlapping\")"
   ]
  },
  {
   "cell_type": "code",
   "execution_count": null,
   "metadata": {},
   "outputs": [],
   "source": [
    "# random_selectivities.plot_write_amp_debt(tag=\"random\")\n",
    "# same_rq_selectivities.plot_write_amp_debt(tag=\"same\")\n",
    "# overlapping_rq_selectivities.plot_write_amp_debt(tag=\"overlapping\")"
   ]
  },
  {
   "cell_type": "code",
   "execution_count": null,
   "metadata": {},
   "outputs": [],
   "source": [
    "# random_selectivities.plot_write_amp_full_debt(tag=\"random\")\n",
    "# same_rq_selectivities.plot_write_amp_full_debt(tag=\"same\")\n",
    "# overlapping_rq_selectivities.plot_write_amp_full_debt(tag=\"overlapping\")"
   ]
  },
  {
   "cell_type": "code",
   "execution_count": null,
   "metadata": {},
   "outputs": [],
   "source": [
    "random_selectivities.plot_space_amplification(tag=\"random\")\n",
    "same_rq_selectivities.plot_space_amplification(tag=\"same\")\n",
    "overlapping_rq_selectivities.plot_space_amplification(tag=\"overlapping\")"
   ]
  },
  {
   "cell_type": "code",
   "execution_count": null,
   "metadata": {},
   "outputs": [],
   "source": [
    "random_selectivities.plot_compaction_read(tag=\"random\")\n",
    "same_rq_selectivities.plot_compaction_read(tag=\"same\")\n",
    "overlapping_rq_selectivities.plot_compaction_read(tag=\"overlapping\")"
   ]
  },
  {
   "cell_type": "code",
   "execution_count": null,
   "metadata": {},
   "outputs": [],
   "source": [
    "PlotSelectivities.plot_total_data_movement(random_rq_stats, random_rq_stats_for_rq, tag=\"random\")\n",
    "PlotSelectivities.plot_total_data_movement(same_rq_stats, same_rq_stats_for_rq, tag=\"same\")\n",
    "PlotSelectivities.plot_total_data_movement(overlapping_rq_stats, overlapping_rq_stats_for_rq, tag=\"overlapping\")"
   ]
  },
  {
   "cell_type": "code",
   "execution_count": null,
   "metadata": {},
   "outputs": [],
   "source": [
    "random_selectivities_rq = PlotSelectivitiesRangeQuery(random_rq_stats_for_rq)\n",
    "same_rq_selectivities_rq = PlotSelectivitiesRangeQuery(same_rq_stats_for_rq)\n",
    "overlapping_rq_selectivities_rq = PlotSelectivitiesRangeQuery(overlapping_rq_stats_for_rq)"
   ]
  },
  {
   "cell_type": "code",
   "execution_count": null,
   "metadata": {},
   "outputs": [],
   "source": [
    "random_selectivities_rq.avg_bytes_read_for_range_queries(tag='random')\n",
    "same_rq_selectivities_rq.avg_bytes_read_for_range_queries(tag='same')\n",
    "overlapping_rq_selectivities_rq.avg_bytes_read_for_range_queries(tag='overlapping')"
   ]
  },
  {
   "cell_type": "code",
   "execution_count": null,
   "metadata": {},
   "outputs": [],
   "source": [
    "random_selectivities_rq.avg_bytes_written_for_range_queries(tag='random')\n",
    "same_rq_selectivities_rq.avg_bytes_written_for_range_queries(tag='same')\n",
    "overlapping_rq_selectivities_rq.avg_bytes_written_for_range_queries(tag='overlapping')"
   ]
  },
  {
   "cell_type": "code",
   "execution_count": null,
   "metadata": {},
   "outputs": [],
   "source": [
    "random_selectivities_rq.avg_latency_for_range_queries(tag='random')\n",
    "same_rq_selectivities_rq.avg_latency_for_range_queries(tag='same')\n",
    "overlapping_rq_selectivities_rq.avg_latency_for_range_queries(tag='overlapping')"
   ]
  },
  {
   "cell_type": "code",
   "execution_count": null,
   "metadata": {},
   "outputs": [],
   "source": [
    "# plot_exp = PlotRangeQueryStats(van.get_rangequerystats(), rqdc.get_rangequerystats())\n",
    "# plot_exp.bytes_read_for_each_range_query()\n",
    "# plot_exp.latency_for_each_range_query()\n",
    "# plot_exp.bytes_written_for_each_range_query()"
   ]
  },
  {
   "cell_type": "code",
   "execution_count": null,
   "metadata": {},
   "outputs": [],
   "source": [
    "# plot_exp = PlotRangeQueryStats(van_overlapping_rq.get_rangequerystats(), rqdc_overlapping_rq.get_rangequerystats())\n",
    "# plot_exp.bytes_read_for_each_range_query(range_query_pattern=\"Same RQ\")\n",
    "# plot_exp.latency_for_each_range_query(range_query_pattern=\"Same RQ\")\n",
    "# plot_exp.bytes_written_for_each_range_query()"
   ]
  },
  {
   "cell_type": "code",
   "execution_count": null,
   "metadata": {},
   "outputs": [],
   "source": [
    "# plot_exp = PlotRangeQueryStats(van_overlapping_partial.get_rangequerystats(), rqdc_overlapping_partial.get_rangequerystats())\n",
    "# plot_exp.bytes_read_for_each_range_query(range_query_pattern=\"Overlapping RQ\")\n",
    "# plot_exp.latency_for_each_range_query(range_query_pattern=\"Overlapping RQ\")\n",
    "# plot_exp.bytes_written_for_each_range_query()"
   ]
  },
  {
   "cell_type": "code",
   "execution_count": null,
   "metadata": {},
   "outputs": [],
   "source": []
  },
  {
   "cell_type": "code",
   "execution_count": null,
   "metadata": {},
   "outputs": [],
   "source": []
  },
  {
   "cell_type": "code",
   "execution_count": null,
   "metadata": {},
   "outputs": [],
   "source": []
  },
  {
   "cell_type": "code",
   "execution_count": null,
   "metadata": {},
   "outputs": [],
   "source": []
  },
  {
   "cell_type": "code",
   "execution_count": null,
   "metadata": {},
   "outputs": [],
   "source": []
  }
 ],
 "metadata": {
  "kernelspec": {
   "display_name": "RQDC",
   "language": "python",
   "name": "python3"
  },
  "language_info": {
   "codemirror_mode": {
    "name": "ipython",
    "version": 3
   },
   "file_extension": ".py",
   "mimetype": "text/x-python",
   "name": "python",
   "nbconvert_exporter": "python",
   "pygments_lexer": "ipython3",
   "version": "3.12.7"
  }
 },
 "nbformat": 4,
 "nbformat_minor": 2
}
